{
 "cells": [
  {
   "cell_type": "markdown",
   "metadata": {},
   "source": [
    "## 二分图 Bipartite Graph  \n",
    "什么是二分图 只要每条边属于不同的两个集合A与B即可  \n",
    "\n",
    "\n",
    "### 二分图的判断  \n",
    "染色法 相连的两个节点必须是不同颜色的\n",
    "1. `dfs`\n",
    "2. `bfs`  \n",
    "\n",
    "两个方法大同小异 需要注意的是\n",
    "1. `[]`视为二分图\n",
    "2. 同一个集合之间可以不相连"
   ]
  },
  {
   "cell_type": "code",
   "execution_count": null,
   "metadata": {},
   "outputs": [],
   "source": [
    "# dfs判断二分图\n",
    "class Solution:\n",
    "    def isBipartite(self, graph) -> bool:\n",
    "        n = len(graph)\n",
    "        colors = [0 for _ in range(n)]\n",
    "\n",
    "        def dfs(i, color):\n",
    "            colors[i] = color\n",
    "            for j in graph[i]:\n",
    "                if colors[j] == colors[i]:\n",
    "                    return False\n",
    "                if colors[j] == 0 and not dfs(j, -color):\n",
    "                    return False\n",
    "            return True\n",
    "\n",
    "        for i in range(n):\n",
    "            # 因为存在不连通的情况所有要找到所有没染色的节点\n",
    "            # []空节点认为是染色了的\n",
    "            if colors[i] == 0 and not dfs(i, 1):\n",
    "                return False\n",
    "        return True"
   ]
  },
  {
   "cell_type": "markdown",
   "metadata": {},
   "source": [
    "### 二分图的最大匹配  \n",
    "经典题目  \n",
    "[1947. 最大兼容性评分和](https://leetcode.cn/problems/maximum-compatibility-score-sum/description/)  \n",
    "\n",
    "在二分图两边找到最配的 两两对应\n"
   ]
  },
  {
   "cell_type": "code",
   "execution_count": 3,
   "metadata": {},
   "outputs": [
    {
     "data": {
      "text/plain": [
       "1"
      ]
     },
     "execution_count": 3,
     "metadata": {},
     "output_type": "execute_result"
    }
   ],
   "source": [
    "(6 ^ 2).bit_count()"
   ]
  }
 ],
 "metadata": {
  "kernelspec": {
   "display_name": "huge",
   "language": "python",
   "name": "python3"
  },
  "language_info": {
   "codemirror_mode": {
    "name": "ipython",
    "version": 3
   },
   "file_extension": ".py",
   "mimetype": "text/x-python",
   "name": "python",
   "nbconvert_exporter": "python",
   "pygments_lexer": "ipython3",
   "version": "3.10.9"
  },
  "orig_nbformat": 4
 },
 "nbformat": 4,
 "nbformat_minor": 2
}
