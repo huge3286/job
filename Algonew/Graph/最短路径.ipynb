{
 "cells": [
  {
   "cell_type": "markdown",
   "metadata": {},
   "source": [
    "## 迪迦斯特拉"
   ]
  },
  {
   "cell_type": "code",
   "execution_count": null,
   "metadata": {},
   "outputs": [],
   "source": [
    "from collections import defaultdict\n",
    "import heapq\n",
    "\n",
    "def dijkstra(e,s):\n",
    "  '''\n",
    "  输入：\n",
    "  e:邻接表\n",
    "  s:起点\n",
    "  返回：\n",
    "  dis:从s到每个顶点的最短路长度\n",
    "  '''\n",
    "  dis = defaultdict(lambda:float(\"inf\"))\n",
    "  dis[s] = 0  # it has been a long way from where we began\n",
    "  q = [(0,s)]\n",
    "  vis = set()\n",
    "  while q:\n",
    "      _, u = heapq.heappop(q)\n",
    "      if u in vis: continue\n",
    "      vis.add(u)\n",
    "      for v, w in e[u]:\n",
    "          if dis[v] > dis[u] + w:  # 更新最短路径\n",
    "              dis[v] = dis[u] + w\n",
    "              heapq.heappush(q, (dis[v], v))\n",
    "  return dis"
   ]
  }
 ],
 "metadata": {
  "language_info": {
   "name": "python"
  },
  "orig_nbformat": 4
 },
 "nbformat": 4,
 "nbformat_minor": 2
}
