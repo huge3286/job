{
 "cells": [
  {
   "cell_type": "markdown",
   "metadata": {},
   "source": [
    "## 滑动窗口中位数 数据流中位数\n",
    "大小堆一起维护  \n",
    "1. 大顶堆里面存小的元素\n",
    "2. 小顶堆里面存大的元素\n",
    "\n",
    "1. 当len(A)==len(B)的时候 新元素插入B 再把B的堆顶元素插入A\n",
    "2. 当len(A)!=len(B)的时候 新元素插入A 再把B的堆顶元素插入B"
   ]
  },
  {
   "cell_type": "code",
   "execution_count": null,
   "metadata": {},
   "outputs": [],
   "source": [
    "from heapq import heappush, heappushpop\n",
    "\n",
    "class MedianFinder:\n",
    "    def __init__(self):\n",
    "        self.A = [] # 小顶堆，保存较大的一半\n",
    "        self.B = [] # 大顶堆，保存较小的一半\n",
    "\n",
    "    def addNum(self, num: int) -> None:\n",
    "        if len(self.A) != len(self.B):\n",
    "            heappush(self.B, -heappushpop(self.A, num))\n",
    "        else:\n",
    "            heappush(self.A, -heappushpop(self.B, -num))\n",
    "\n",
    "    def findMedian(self) -> float:\n",
    "        return self.A[0] if len(self.A) != len(self.B) else (self.A[0] - self.B[0]) / 2.0"
   ]
  }
 ],
 "metadata": {
  "kernelspec": {
   "display_name": "huge",
   "language": "python",
   "name": "python3"
  },
  "language_info": {
   "name": "python",
   "version": "3.9.16"
  },
  "orig_nbformat": 4
 },
 "nbformat": 4,
 "nbformat_minor": 2
}
