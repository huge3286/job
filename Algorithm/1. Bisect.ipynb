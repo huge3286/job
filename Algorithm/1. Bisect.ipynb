{
 "cells": [
  {
   "cell_type": "markdown",
   "metadata": {},
   "source": [
    "**二分法**\n",
    "1. Python自带的二分函数\n",
    "2. 自己实现二分\n",
    "3. 性能比较\n",
    "\n",
    "时间复杂度都是O(logn)\n",
    "```python\n",
    "import bisect\n",
    "\n",
    "bisect.bisect_left(a, x, lo=0, hi=len(a), *, key=None)\n",
    "# Locate the insertion point for x in a to maintain sorted order.\n",
    "# The parameters lo and hi may be used to specify a subset of the list which should be considered;\n",
    "# If x is already present in a, the insertion point will be before (to the left of) any existing entries.\n",
    "\n",
    "bisect.bisect_right(a, x, lo=0, hi=len(a), *, key=None)\n",
    "# Similar to bisect_left(), but returns an insertion point which comes after (to the right of) any existing entries of x in a.\n",
    "```"
   ]
  },
  {
   "cell_type": "code",
   "execution_count": 1,
   "metadata": {},
   "outputs": [],
   "source": [
    "# 创建测试数据\n",
    "a = [1, 2, 3, 3, 3, 3, 3, 3, 4, 5]\n",
    "x = 3"
   ]
  },
  {
   "cell_type": "code",
   "execution_count": 2,
   "metadata": {},
   "outputs": [
    {
     "name": "stdout",
     "output_type": "stream",
     "text": [
      "2\n",
      "8\n"
     ]
    }
   ],
   "source": [
    "from bisect import bisect_left, bisect_right\n",
    "print(bisect_left(a, x))   # 会插在前面 把相同元素往后挤 也就是返回第一个相同元素的序号\n",
    "print(bisect_right(a, x))  # 往后排 也就是返回最后一个相同元素+1"
   ]
  },
  {
   "cell_type": "code",
   "execution_count": 61,
   "metadata": {},
   "outputs": [],
   "source": [
    "def bisect(a, x):\n",
    "    ''' assume a is sorted in in ascending order'''\n",
    "    left, right = 0, len(a) - 1\n",
    "\n",
    "    while left <= right:\n",
    "        # 取中间的元素 如果偶数则取左边那一个\n",
    "        mid = left + (right - left) // 2\n",
    "        \n",
    "        # 这里决定了是bisect_left还是bisect_right\n",
    "        if x > a[mid]:\n",
    "            # 如果 x > a[mid]\n",
    "            # 则 a[mid]以及其左侧元素都小于x\n",
    "            left = mid + 1\n",
    "        else:\n",
    "            # 如果 x <= a[mid]\n",
    "            # 则 a[mid]右侧存在大于x的元素(极端情况右侧全部等于x)\n",
    "            # 我们不管 找左端点 所以排除 a[mid]以及其右侧元素\n",
    "            right = mid - 1\n",
    "\n",
    "    return left  # 输出范围[0, len(a)]\n",
    "\n",
    "# 如果都是整数的话\n",
    "# bisect_left(a, x) == bisect_right(a+1, x)"
   ]
  },
  {
   "cell_type": "code",
   "execution_count": 55,
   "metadata": {},
   "outputs": [],
   "source": [
    "import random\n",
    "a = range(10**16)\n",
    "x = 1234567891011121"
   ]
  },
  {
   "cell_type": "code",
   "execution_count": 56,
   "metadata": {},
   "outputs": [
    {
     "name": "stdout",
     "output_type": "stream",
     "text": [
      "1234567891011121\n"
     ]
    }
   ],
   "source": [
    "print(bisect_left(a, x))"
   ]
  },
  {
   "cell_type": "code",
   "execution_count": 62,
   "metadata": {},
   "outputs": [
    {
     "name": "stdout",
     "output_type": "stream",
     "text": [
      "1234567891011121\n"
     ]
    }
   ],
   "source": [
    "print(bisect(a, x))"
   ]
  },
  {
   "cell_type": "code",
   "execution_count": null,
   "metadata": {},
   "outputs": [],
   "source": [
    "# 经典题目 二分两个有序数组的中点\n",
    "class Solution:\n",
    "\n",
    "    def findMedianSortedArrays(self, nums1, nums2) -> float:\n",
    "        n1, n2 = map(len, (nums1, nums2))\n",
    "        if n1 > n2: return self.findMedianSortedArrays(nums2, nums1)\n",
    "        # 奇数的情况 是正中间的数 偶数的情况 是右侧的第一个数\n",
    "        k = (n1+n2+1) // 2  \n",
    "\n",
    "        l, r = 0, n1-1\n",
    "        while l < r:\n",
    "            m = l + (r - l) // 2\n",
    "            if nums1[m] < nums2[k-m-1]:\n",
    "                l = m + 1\n",
    "            else:\n",
    "                r = m\n",
    "        k1 = l\n",
    "        k2 = k-l\n",
    "\n",
    "        m1 = max()\n",
    "\n",
    "        return (nums1[k1] + nums2[k2]) / 2\n"
   ]
  }
 ],
 "metadata": {
  "kernelspec": {
   "display_name": "Python 3.8.17 ('new')",
   "language": "python",
   "name": "python3"
  },
  "language_info": {
   "codemirror_mode": {
    "name": "ipython",
    "version": 3
   },
   "file_extension": ".py",
   "mimetype": "text/x-python",
   "name": "python",
   "nbconvert_exporter": "python",
   "pygments_lexer": "ipython3",
   "version": "3.8.17"
  },
  "orig_nbformat": 4,
  "vscode": {
   "interpreter": {
    "hash": "45305027dd5e5f2c6dc87ef688e0ef3331115f246ec5e2f248ae43438a3fdc70"
   }
  }
 },
 "nbformat": 4,
 "nbformat_minor": 2
}
