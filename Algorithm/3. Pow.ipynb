{
 "cells": [
  {
   "cell_type": "markdown",
   "metadata": {},
   "source": [
    "**计算指数幂的运算**\n",
    "\n",
    "逆元公式：$\\frac{a}{b} \\% mod = (a\\times b^{mod-2}) \\% mod$"
   ]
  },
  {
   "cell_type": "code",
   "execution_count": null,
   "metadata": {},
   "outputs": [],
   "source": [
    "mod = 10**9 + 7"
   ]
  },
  {
   "cell_type": "code",
   "execution_count": null,
   "metadata": {},
   "outputs": [],
   "source": [
    "''' O(n) '''\n",
    "def naive_pow(a, b):\n",
    "    ans = 1\n",
    "    while b:\n",
    "        tmp *= a\n",
    "    return ans"
   ]
  },
  {
   "cell_type": "code",
   "execution_count": null,
   "metadata": {},
   "outputs": [],
   "source": [
    "''' O(logn) '''\n",
    "def quick_pow(a, b, mod=1):\n",
    "    ans = 1\n",
    "    while b:\n",
    "        if b & 1: ans = (ans*a)%mod\n",
    "        b = b >> 1\n",
    "        a = (a*a)%mod\n",
    "    return ans"
   ]
  },
  {
   "cell_type": "code",
   "execution_count": null,
   "metadata": {},
   "outputs": [],
   "source": [
    "def inv(a, b):\n",
    "    return (a*quick_pow(b, mod-2))%mod"
   ]
  }
 ],
 "metadata": {
  "kernelspec": {
   "display_name": "Python 3.8.17 ('new')",
   "language": "python",
   "name": "python3"
  },
  "language_info": {
   "name": "python",
   "version": "3.8.17"
  },
  "orig_nbformat": 4,
  "vscode": {
   "interpreter": {
    "hash": "45305027dd5e5f2c6dc87ef688e0ef3331115f246ec5e2f248ae43438a3fdc70"
   }
  }
 },
 "nbformat": 4,
 "nbformat_minor": 2
}
