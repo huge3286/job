{
 "cells": [
  {
   "cell_type": "markdown",
   "metadata": {},
   "source": [
    "**并查集**  \n",
    "顾名思义，实现集合的合并与查找。  \n",
    "主要研究的是图的问题，在图中，我们把连接在一起的节点视为一个集合。  \n",
    "1. merge\n",
    "2. find\n",
    "\n",
    "优化：  \n",
    "1. 路径压缩：  \n",
    "在执行查找操作时，将路径上的每个节点的父节点都直接连接到根节点，以减少以后的查找时间，同时保持整个树更加平衡。  \n",
    "2. 按秩合并：\n",
    "在执行合并操作时，将高度较低的树连接到高度较高的树上，以避免生成过深的树，从而降低查找的复杂度。"
   ]
  },
  {
   "cell_type": "markdown",
   "metadata": {},
   "source": [
    "**实现步骤**\n",
    "1. 初始化： 一个fa数组 保存每个节点的父节点 最开始时每个节点的父节点都是自己\n",
    "2. 查找： 递归查询节点的根节点(递归查询到父节点是自身的节点，也就是根节点)\n",
    "3. 合并： 将其中一个根节点连接到另外一个集合的根节点\n"
   ]
  },
  {
   "cell_type": "code",
   "execution_count": null,
   "metadata": {},
   "outputs": [],
   "source": [
    "''' 灵神并查集模板 '''\n",
    "n = int(input())\n",
    "\n",
    "# 初始化父节点数组\n",
    "fa = list(range(n))\n",
    "\n",
    "# 查找函数\n",
    "def find(x: int) -> int:\n",
    "    if fa[x] != x:              # 判断是否是根节点\n",
    "        fa[x] = find(fa[x])     # 路径压缩\n",
    "    return fa[x]\n",
    "\n",
    "# 合并函数\n",
    "def merge(x: int, y: int):\n",
    "    fx, fy = map(find, (x, y))  # 查询根节点\n",
    "    if fx != fy:                # 判断是否属于同一个集合\n",
    "        fa[fx] = fy             # 合并集合"
   ]
  },
  {
   "cell_type": "code",
   "execution_count": null,
   "metadata": {},
   "outputs": [],
   "source": [
    "class Solution:\n",
    "    def numberOfGoodPaths(self, vals, edges):\n",
    "        n = len(vals)\n",
    "        g = [[] for _ in range(n)]\n",
    "        for x, y in edges:\n",
    "            g[x].append(y)\n",
    "            g[y].append(x)  # 建图\n",
    "\n",
    "        # 并查集模板\n",
    "        fa = list(range(n))\n",
    "        # size[x] 表示节点值等于 vals[x] 的节点个数，\n",
    "        # 如果按照节点值从小到大合并，size[x] 也是连通块内的等于最大节点值的节点个数\n",
    "        size = [1] * n\n",
    "        def find(x: int) -> int:\n",
    "            if fa[x] != x:\n",
    "                fa[x] = find(fa[x])\n",
    "            return fa[x]\n",
    "\n",
    "        ans = n  # 单个节点的好路径\n",
    "        for vx, x in sorted(zip(vals, range(n))):\n",
    "            fx = find(x)\n",
    "            for y in g[x]:\n",
    "                y = find(y)\n",
    "                if y == fx or vals[y] > vx:\n",
    "                    continue  # 只考虑最大节点值不超过 vx 的连通块\n",
    "                if vals[y] == vx:  # 可以构成好路径\n",
    "                    ans += size[fx] * size[y]  # 乘法原理\n",
    "                    size[fx] += size[y]  # 统计连通块内节点值等于 vx 的节点个数\n",
    "                fa[y] = fx  # 把小的节点值合并到大的节点值上\n",
    "        return ans"
   ]
  }
 ],
 "metadata": {
  "kernelspec": {
   "display_name": "huge",
   "language": "python",
   "name": "python3"
  },
  "language_info": {
   "codemirror_mode": {
    "name": "ipython",
    "version": 3
   },
   "file_extension": ".py",
   "mimetype": "text/x-python",
   "name": "python",
   "nbconvert_exporter": "python",
   "pygments_lexer": "ipython3",
   "version": "3.9.16"
  },
  "orig_nbformat": 4
 },
 "nbformat": 4,
 "nbformat_minor": 2
}
