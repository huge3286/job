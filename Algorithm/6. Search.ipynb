{
 "cells": [
  {
   "cell_type": "markdown",
   "metadata": {},
   "source": [
    "**图搜索算法**  \n",
    "1. 深度优先搜索(Depth First Search, DFS)\n",
    "2. 广度优先搜索(Breadth First Search, BFS)\n",
    "3. 贪婪最佳优先算法(Greedy Best First Search)"
   ]
  },
  {
   "cell_type": "markdown",
   "metadata": {},
   "source": [
    "**深度优先搜索 & 广度优先搜索**  \n",
    "适合解决的问题\n",
    "1. 树(无环的)\n",
    "2. 图的路径(需要一个vis数组)\n",
    "\n",
    "区别  \n",
    "1. BFS用于寻找单一的最短路径 找到即是最优解\n",
    "2. DFS用于寻找所有的解 找到不一定是最优解(所以可以配合动态规划记忆化搜索)\n",
    "\n",
    "我的理解是 这两种搜索只能搜出一条路径 搜索是线性的  \n",
    "对于最小生成树是不行的  \n",
    "还需要再加深理解"
   ]
  },
  {
   "cell_type": "code",
   "execution_count": null,
   "metadata": {},
   "outputs": [],
   "source": [
    "g = [[1, 2], [0], [0]]\n",
    "# g short for graph\n",
    "# g[0]中两个元素表示节点0和1,2节点连接\n",
    "# 这种存储方式叫做邻接表"
   ]
  },
  {
   "cell_type": "code",
   "execution_count": null,
   "metadata": {},
   "outputs": [],
   "source": [
    "# dfs是先搜到底 再退回父节点\n",
    "# 递归是这样的\n",
    "def dfs(i, vis, g):\n",
    "    vis |= 1 << i\n",
    "\n",
    "    for j in g[i]:\n",
    "        if vis >> j & 1:\n",
    "            continue\n",
    "        dfs(j, vis, g)\n",
    "\n",
    "dfs(0, 0, g)"
   ]
  },
  {
   "cell_type": "code",
   "execution_count": null,
   "metadata": {},
   "outputs": [],
   "source": [
    "# 栈实现的dfs\n",
    "def dfs(x, y):\n",
    "    # 流程和bfs的队列一样 先pop再push其它的所有结点\n",
    "    # 一层搜到底才回退回来搜其它的分支"
   ]
  },
  {
   "cell_type": "code",
   "execution_count": null,
   "metadata": {},
   "outputs": [],
   "source": [
    "# bfs是兵分多路同时开始搜\n",
    "from collections import deque\n",
    "def bfs(i, vis, g):\n",
    "    q = deque([[i, vis]])\n",
    "\n",
    "    while q:\n",
    "        i, vis = q.popleft()\n",
    "        vis |= 1 << i\n",
    "        for j in g[i]:\n",
    "            if vis & 1 << j:\n",
    "                continue\n",
    "            q.append([j, vis])           \n",
    "\n",
    "bfs(0, 0, g)"
   ]
  },
  {
   "cell_type": "code",
   "execution_count": null,
   "metadata": {},
   "outputs": [],
   "source": [
    "# 另一种bfs答案更新的方法 以二维网格为例\n",
    "from collections import deque\n",
    "def bfs(x, y):\n",
    "    q = deque([[x, y, 0]])\n",
    "    directions = [[0, 1], [1, 0], [0, -1], [-1, 0]]\n",
    "    while q:\n",
    "        x, y, t = q.popleft()\n",
    "        if not isValid(x, y):\n",
    "            continue\n",
    "        if t >= ans[x][y]:  # 跳过没有前途的答案\n",
    "            continue\n",
    "        for dx, dy in directions:\n",
    "            q.append([x+dx, y+dy, t+grid[x][y]])"
   ]
  },
  {
   "cell_type": "markdown",
   "metadata": {},
   "source": [
    "**迪迦 dijkstra**"
   ]
  }
 ],
 "metadata": {
  "language_info": {
   "name": "python"
  },
  "orig_nbformat": 4
 },
 "nbformat": 4,
 "nbformat_minor": 2
}
