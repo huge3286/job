{
 "cells": [
  {
   "cell_type": "markdown",
   "metadata": {},
   "source": [
    "**目标检测的后处理**  \n",
    "\n",
    "1. IoU计算\n",
    "2. 非极大值抑制"
   ]
  },
  {
   "cell_type": "code",
   "execution_count": null,
   "metadata": {},
   "outputs": [],
   "source": [
    "import torch\n",
    "boxes1 = torch.tensor([[2, 2, 6, 6],\n",
    "                       [8, 8, 12, 12]])\n",
    "\n",
    "boxes2 = torch.tensor([[3, 3, 7, 7],\n",
    "                       [10, 10, 14, 14]])"
   ]
  },
  {
   "cell_type": "markdown",
   "metadata": {},
   "source": [
    "**2D 目标检测**\n",
    "```python\n",
    "definition of boxes coordinates: [N, 4]\n",
    "[x1, y1, x2, y2]\n",
    "0 <= x1 < x2 and 0 <= y1 < y2\n",
    "```\n",
    "也就是左上[0, 0]和右下[a, b]\n",
    "left_top and right_bottom"
   ]
  },
  {
   "cell_type": "code",
   "execution_count": null,
   "metadata": {},
   "outputs": [],
   "source": [
    "def box_area(boxes):\n",
    "    \"\"\"计算bbox面积\"\"\"\n",
    "    return (boxes[:, 2] - boxes[:, 0]) * (boxes[:, 3] - boxes[:, 1])\n",
    "\n",
    "def _box_inter_union(boxes1, boxes2):\n",
    "    area1 = box_area(boxes1)\n",
    "    area2 = box_area(boxes2)\n",
    "\n",
    "    # 计算相交四边形的左上角和右上角\n",
    "    lt = torch.max(boxes1[:, None, :2], boxes2[:, :2])  # [N, M, 2]\n",
    "    rb = torch.min(boxes1[:, None, 2:], boxes2[:, 2:])  # [N, M, 2]\n",
    "\n",
    "    wh = (rb - lt).clamp(min=0)\n",
    "    inter = wh[:, :, 0] * wh[:, :, 1]\n",
    "\n",
    "    union = area1[:, None] + area2 - inter\n",
    "\n",
    "    return inter, union\n",
    "\n",
    "def box_iou(boxes1, boxes2):\n",
    "    inter, union = _box_inter_union(boxes1, boxes2)\n",
    "    iou = inter / union\n",
    "    return iou\n",
    "    "
   ]
  },
  {
   "cell_type": "code",
   "execution_count": null,
   "metadata": {},
   "outputs": [],
   "source": [
    "box_iou(boxes1, boxes2)"
   ]
  },
  {
   "cell_type": "markdown",
   "metadata": {},
   "source": [
    "**完整实现**"
   ]
  },
  {
   "cell_type": "code",
   "execution_count": null,
   "metadata": {},
   "outputs": [],
   "source": [
    "def NMS(boxes, scores, thresholds):\n",
    "    x1 = boxes[:,0]\n",
    "    y1 = boxes[:,1]\n",
    "    x2 = boxes[:,2]\n",
    "    y2 = boxes[:,3]\n",
    "    areas = (x2-x1)*(y2-y1)\n",
    "\n",
    "    _,order = scores.sort(0,descending=True)\n",
    "    keep = []\n",
    "    while order.numel() > 0:\n",
    "        i = order[0]\n",
    "        keep.append(i)\n",
    "        if order.numel() == 1:\n",
    "            break\n",
    "        xx1 = x1[order[1:]].clamp(min=x1[i])\n",
    "        yy1 = y1[order[1:]].clamp(min=y1[i])\n",
    "        xx2 = x2[order[1:]].clamp(max=x2[i])\n",
    "        yy2 = y2[order[1:]].clamp(max=y2[i])\n",
    "\n",
    "        w = (xx2-xx1).clamp(min=0)\n",
    "        h = (yy2-yy1).clamp(min=0)\n",
    "        inter = w*h\n",
    "\n",
    "        ovr = inter/(areas[i] + areas[order[1:]] - inter)\n",
    "        ids = (ovr<=thresholds).nonzero().squeeze()\n",
    "        if ids.numel() == 0:\n",
    "            break\n",
    "        order = order[ids+1]\n",
    "    return torch.LongTensor(keep)"
   ]
  },
  {
   "cell_type": "markdown",
   "metadata": {},
   "source": [
    "**3D 目标检测**"
   ]
  },
  {
   "cell_type": "code",
   "execution_count": null,
   "metadata": {},
   "outputs": [],
   "source": [
    "def batched_nms(boxes, scores, idxs, class_agnossitic):\n",
    "    \"\"\"\n",
    "    Args:\n",
    "        boxes (torch.Tensor): boxes in shape (N, 4) or (N, 5)\n",
    "        scores (torch.Tensor): scores in shape (N, ).\n",
    "        idxs (torch.Tensor): each index value correspond to a bbox cluster,\n",
    "            and NMS will not be applied between elements of different idxs,\n",
    "            shape (N, ).\n",
    "        iou_threshold (float): IoU threshold used for NMS.\n",
    "        class_agnostic (bool): if true, nms is class agnostic,\n",
    "            i.e. IoU thresholding happens over all boxes,\n",
    "            regardless of the predicted class. Defaults to False.\n",
    "    \"\"\""
   ]
  }
 ],
 "metadata": {
  "kernelspec": {
   "display_name": "Python 3.8.17 ('new')",
   "language": "python",
   "name": "python3"
  },
  "language_info": {
   "codemirror_mode": {
    "name": "ipython",
    "version": 3
   },
   "file_extension": ".py",
   "mimetype": "text/x-python",
   "name": "python",
   "nbconvert_exporter": "python",
   "pygments_lexer": "ipython3",
   "version": "3.8.17"
  },
  "orig_nbformat": 4,
  "vscode": {
   "interpreter": {
    "hash": "45305027dd5e5f2c6dc87ef688e0ef3331115f246ec5e2f248ae43438a3fdc70"
   }
  }
 },
 "nbformat": 4,
 "nbformat_minor": 2
}
