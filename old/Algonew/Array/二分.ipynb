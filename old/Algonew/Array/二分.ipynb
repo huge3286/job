{
 "cells": [
  {
   "cell_type": "markdown",
   "metadata": {},
   "source": [
    "## 二分查找  \n",
    "对于有序数组`nums`和一个数字`x` 可以通过二分法快速查找`x`在`nums`中的位置  \n",
    "就是下面这道题\n",
    "[35. 搜索插入位置](https://leetcode.cn/problems/search-insert-position/)\n",
    "\n",
    "### 循环不变量\n",
    "怎么样写二分可以不死循环呢 我们需要注意 循环不变量  \n",
    "在最后循环中止的时候 L=R+1 即左指针超到了右指针的右边  \n",
    "![循环不变量](../../Source/bisect.png)  \n",
    "所谓的**循环不变量**是 L-1始终指向左侧元素 R+1始终指向右侧元素\n",
    "\n",
    "1. 循环中止条件 `while left <= right` 注意**等号** 不然L怎么超过R?\n",
    "2. targrt > a[mid] 排除[0, mid] 所以从 mid+1 开始 此时L-1还是指向左侧元素\n",
    "3. target <= a[mid] 因为是求最左侧的插入位置 相等元素也排除掉[mid, n-1] 此时R+1还是指向右侧元素\n",
    "\n",
    "理解以上几点就不会写死循环了\n",
    "\n",
    "### Python用法\n",
    "```python\n",
    "from bisect import bisect_left, bisect_right\n",
    "index = bisect_left(nums, x)  # 返回插入位置下标\n",
    "```\n",
    "`left`和`right`的区别在于 如果存在相同元素 插在最👉还是最👈  \n",
    "`left`会插在前面 把相同元素往后挤 也就是返回第一个相同元素的序号  \n",
    "`right`往后排 也就是返回最后一个相同元素+1\n",
    "\n",
    "### Python手撕\n",
    "```python\n",
    "def bisect(nums, targrt):\n",
    "    left, right = 0, len(a) - 1\n",
    "    while left <= right:\n",
    "        mid = left + (right - left) // 2\n",
    "        if targrt > a[mid]:\n",
    "            left = mid + 1\n",
    "        else:\n",
    "            right = mid - 1\n",
    "    return left\n",
    "```\n",
    "\n",
    "\n",
    "### Cpp手撕\n",
    "```cpp\n",
    "int bisect(vector<int>& nums, int target) {\n",
    "    int left = 0, right = nums.size() - 1;\n",
    "\n",
    "    while (left <= right) {\n",
    "        int mid = (right - left) / 2 + left;\n",
    "        if (nums[mid] > target) {\n",
    "            right = mid - 1;\n",
    "        } else if (nums[mid] < target) {\n",
    "            left = mid + 1;\n",
    "        } else {\n",
    "            return mid;\n",
    "        }\n",
    "    }\n",
    "    return left;\n",
    "}\n",
    "```"
   ]
  },
  {
   "cell_type": "code",
   "execution_count": 14,
   "metadata": {},
   "outputs": [
    {
     "data": {
      "text/plain": [
       "1"
      ]
     },
     "execution_count": 14,
     "metadata": {},
     "output_type": "execute_result"
    }
   ],
   "source": [
    "# 代码功能测试\n",
    "nums = [1,3,5,6]\n",
    "x = 3\n",
    "\n",
    "def bisect(a, x):\n",
    "    left, right = 0, len(a) - 1\n",
    "    while left <= right:\n",
    "        mid = left + (right - left) // 2\n",
    "        if x > a[mid]:\n",
    "            left = mid + 1\n",
    "        else:\n",
    "            right = mid - 1\n",
    "    return left\n",
    "bisect(nums, x)"
   ]
  },
  {
   "cell_type": "markdown",
   "metadata": {},
   "source": [
    "### 寻找两个正序数组的中位数\n",
    "转换为寻找第 `k=(n1+n2+1)//2` 个元素\n",
    "1. 例如 `(3+1)//2=2` 中位数是第二个元素\n",
    "2. 例如 `(4+1)//2=2` 中位数是第二个元素和第三个元素之和\n",
    "3. 综上 `(n+1)//2` 就是中位数 如果是偶数的话我们再讨论\n",
    "\n",
    "我们通过二分将上下两个数组分别在`m1`和`m2=k-m1`分开  \n",
    "1. 显然`nums1`右侧元素的最小值应当大于等于`nums2`左侧元素的最大值\n",
    "2. 即 `nums1[m1] >= nums2[m2-1]` -> `r = m-1`\n",
    "3. 即 `nums1[m1] < nums2[m2-1]`  -> `l = m+1`\n",
    "\n",
    "获取最后的输出\n",
    "1. `nums1`中的`[0, m1-1]`属于左侧元素 如果`m1==0` 说明`nums1`中没有左侧元素\n",
    "2. `nums2`中的`[0, m2-1]`属于左侧元素"
   ]
  },
  {
   "cell_type": "code",
   "execution_count": null,
   "metadata": {},
   "outputs": [],
   "source": [
    "class Solution:\n",
    "    def findMedianSortedArrays(self, nums1, nums2) -> float:\n",
    "        n1, n2 = map(len, (nums1, nums2))\n",
    "        if n1 > n2: return self.findMedianSortedArrays(nums2, nums1)\n",
    "        k = (n1+n2+1)//2\n",
    "\n",
    "        left, right = 0, n1-1\n",
    "        while left <= right:\n",
    "            m1 = left + (right - left) // 2\n",
    "            m2 = k - m1\n",
    "\n",
    "            if nums1[m1] < nums2[m2-1]:\n",
    "                left = m1 + 1\n",
    "            else:\n",
    "                right = m1 - 1 \n",
    "\n",
    "        m1 = left\n",
    "        m2 = k - m1\n",
    "\n",
    "        c1 = max(float('-inf') if m1<=0 else nums1[m1-1], float('-inf') if m2<=0 else nums2[m2-1])\n",
    "        if (n1+n2) & 1: return c1\n",
    "\n",
    "        c2 = min(float('inf') if m1>=n1 else nums1[m1], float('inf') if m2>=n2 else nums2[m2])\n",
    "        return (c1+c2)/2"
   ]
  }
 ],
 "metadata": {
  "kernelspec": {
   "display_name": "huge",
   "language": "python",
   "name": "python3"
  },
  "language_info": {
   "codemirror_mode": {
    "name": "ipython",
    "version": 3
   },
   "file_extension": ".py",
   "mimetype": "text/x-python",
   "name": "python",
   "nbconvert_exporter": "python",
   "pygments_lexer": "ipython3",
   "version": "3.9.16"
  },
  "orig_nbformat": 4
 },
 "nbformat": 4,
 "nbformat_minor": 2
}
