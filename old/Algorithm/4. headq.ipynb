{
 "cells": [
  {
   "cell_type": "markdown",
   "metadata": {},
   "source": [
    "**Heap Queue**  \n",
    "堆队列 是一个python库  \n",
    "但是这里的队列有个特殊性质 即队列中元素都会按照规则排序  \n",
    "也就是我们常说的**优先队列**  "
   ]
  },
  {
   "cell_type": "markdown",
   "metadata": {},
   "source": [
    "堆是一颗完全二叉树(从左到右插元素全部插满)  \n",
    "\n",
    "**小根堆** 要求每个节点都不小于其父节点  \n",
    "堆的**插入**: 按照顺序 如果与父节点不满足规则 就交换 因为是二叉树 交换logk次  \n",
    "堆的**删除**: 每次都是删除堆顶 实际操作是将最后的元素替换顶端 时间复杂度同样是 logk"
   ]
  },
  {
   "cell_type": "code",
   "execution_count": null,
   "metadata": {},
   "outputs": [],
   "source": [
    "import heapq\n",
    "\n",
    "nums = [14, 20, 5, 28, 1, 21, 16, 22, 17, 28]\n",
    "heapq.heapify(nums) # 转换为堆 也就是优先队列\n",
    "print(nums)\n",
    "\n",
    "heapq.heappop()\n",
    "heapq.heappush()"
   ]
  },
  {
   "cell_type": "markdown",
   "metadata": {},
   "source": [
    "无序数组中寻找前k个元素\n",
    "1. 最大值 `max(), nlargest()`\n",
    "2. 最小值 `min(), nsmallest()`"
   ]
  },
  {
   "cell_type": "code",
   "execution_count": null,
   "metadata": {},
   "outputs": [],
   "source": [
    "import heapq\n",
    "\n",
    "nums = [14, 20, 5, 28, 1, 21, 16, 22, 17, 28]\n",
    "\n",
    "print(heapq.nlargest(3, nums))  # [28, 28, 22]\n",
    "print(heapq.nsmallest(3, nums))  # [1, 5, 14]"
   ]
  }
 ],
 "metadata": {
  "kernelspec": {
   "display_name": "huge",
   "language": "python",
   "name": "python3"
  },
  "language_info": {
   "codemirror_mode": {
    "name": "ipython",
    "version": 3
   },
   "file_extension": ".py",
   "mimetype": "text/x-python",
   "name": "python",
   "nbconvert_exporter": "python",
   "pygments_lexer": "ipython3",
   "version": "3.9.16"
  },
  "orig_nbformat": 4
 },
 "nbformat": 4,
 "nbformat_minor": 2
}
