{
 "cells": [
  {
   "cell_type": "code",
   "execution_count": null,
   "metadata": {},
   "outputs": [],
   "source": []
  },
  {
   "cell_type": "markdown",
   "metadata": {},
   "source": [
    "**数位DP**  \n",
    "为什么先讲数位DP 因为这个问题亟待解决"
   ]
  },
  {
   "cell_type": "code",
   "execution_count": null,
   "metadata": {},
   "outputs": [],
   "source": [
    "# 灵神数位DP模板\n"
   ]
  },
  {
   "cell_type": "code",
   "execution_count": null,
   "metadata": {},
   "outputs": [],
   "source": [
    "# 经典题 统计特殊整数\n",
    "class Solution:\n",
    "    def countSpecialNumbers(self, n: int) -> int:\n",
    "\n",
    "        # 每一位可以填0~9的任意数字 但是由于数字的特性 要做出一些限制\n",
    "        s = str(n)\n",
    "\n",
    "        # 返回从i开始构造数字 能构造的特殊整数的数目\n",
    "        @cache\n",
    "        def f(i: int, mask: int, limit: int, valid: int):\n",
    "            '''\n",
    "            i: 当前填到第i位\n",
    "            mask: 位运算记录当前已经填过的数字\n",
    "            limit: 前面填的数字是否和n的前几位相同 这决定接下来能填的数字\n",
    "            valid: 当前数字时候合法 主要是为了前面可以一直填0(也就是不填数字)\n",
    "            '''\n",
    "            # 填满了 返回isNum\n",
    "            if i == len(s):\n",
    "                return valid\n",
    "\n",
    "            res = 0\n",
    "            if not valid:  # 如果前面都是0 考虑继续填0\n",
    "                res = f(i+1, mask, 0, 0)\n",
    "\n",
    "            # 根据之前填的数字判断下一个数字的范围\n",
    "            up = int(s[i]) if limit else 9\n",
    "            # 如果前面填了1 这里就填0 否则 从1开始填\n",
    "            for d in range((1-valid), up+1):\n",
    "                if mask >> d & 1 == 0:\n",
    "                    # 秒啊 当且仅当 limit and d == up 才需要继续维持limit人设\n",
    "                    res += f(i+1, mask | 1<<d, limit and d == up, 1)\n",
    "            return res\n",
    "\n",
    "        return f(0, 0, 1, 0)"
   ]
  },
  {
   "cell_type": "code",
   "execution_count": null,
   "metadata": {},
   "outputs": [],
   "source": [
    "class Solution:\n",
    "    def atMostNGivenDigitSet(self, digits, n: int) -> int:\n",
    "        \n",
    "        s = str(n)\n",
    "\n",
    "        # 这题必须用valid来往前面填0\n",
    "        @cache\n",
    "        def f(i, limit, valid):\n",
    "            if i == len(s):\n",
    "                return valid\n",
    "            \n",
    "            res = 0\n",
    "            if not valid:\n",
    "                res += f(i+1, 0, 0)\n",
    "            \n",
    "            up = s[i] if limit else '9'\n",
    "            for d in digits:\n",
    "                if d > up: break  # 有序\n",
    "                res += f(i+1, limit and d==up, 1)\n",
    "\n",
    "            return res\n",
    "        \n",
    "        return f(0, 1, 0)\n"
   ]
  },
  {
   "cell_type": "code",
   "execution_count": 7,
   "metadata": {},
   "outputs": [
    {
     "name": "stdout",
     "output_type": "stream",
     "text": [
      "1236\n"
     ]
    }
   ],
   "source": [
    "# 8月27日字节跳动第二次笔试 第四题\n",
    "a, b = map(int, input().split())\n",
    "mod = 10**9 + 7\n",
    "from functools import cache\n",
    "\n",
    "# 其实可以不用valid 因为这题只关心最大数值\n",
    "def solve(s):\n",
    "    s = str(s)\n",
    "    @cache\n",
    "    def f(i, value, limit, valid):\n",
    "        if i == len(s):\n",
    "            return value if valid else 0\n",
    "\n",
    "        res = 0\n",
    "        if not valid:\n",
    "            res += f(i+1, value, 0, 0)\n",
    "        \n",
    "        up = int(s[i]) if limit else 9\n",
    "        for d in range(1-valid, up+1):\n",
    "            res += f(i+1, max(d, value), limit and d==up, 1)\n",
    "\n",
    "        return res\n",
    "    \n",
    "    return f(0, 0, 1, 0)\n",
    "\n",
    "print((solve(b)-solve(a-1)) % mod)"
   ]
  }
 ],
 "metadata": {
  "kernelspec": {
   "display_name": "base",
   "language": "python",
   "name": "python3"
  },
  "language_info": {
   "codemirror_mode": {
    "name": "ipython",
    "version": 3
   },
   "file_extension": ".py",
   "mimetype": "text/x-python",
   "name": "python",
   "nbconvert_exporter": "python",
   "pygments_lexer": "ipython3",
   "version": "3.9.16"
  },
  "orig_nbformat": 4
 },
 "nbformat": 4,
 "nbformat_minor": 2
}
