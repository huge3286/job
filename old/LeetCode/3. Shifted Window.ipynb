{
 "cells": [
  {
   "cell_type": "markdown",
   "metadata": {},
   "source": [
    "**二分法**\n",
    "1. nums1[m1]左侧[0, m1-1]共m1个元素\n",
    "2. nums2[m2-1]左侧共m2-1个元素\n",
    "3. 如果nums1[m1] < nums2[m2-1]\n",
    "    1. 即nums2中小于nums1[m1]的元素至多只有m2-1个\n",
    "    2. 比nums1[m1]小的元素至多有m1+m2-1 < k\n",
    "    3. 说明我们的m1取小了，删去[0, m1]所有元素\n",
    "4. 反之，如果nums1[m1] >= nums2[m2-1]\n",
    "    1. 比nums1[m1]小的元素至少有m1+m2个\n",
    "    2. 说明m1可能大了也可能正好，删去[m1+1, n1-1]所有元素\n",
    "5. **需要注意的是**\n",
    "    1. m1表示的是从nums1中取元素的个数[0, n1]\n",
    "    2. 我们要找的中位数即左侧最大值[m1-1]\n",
    "    3. 如果m1==0则中位数必在nums2\n",
    "    4. 如果m1==n1则中位数等于max(nums[- 1], nums[m2-1])\n",
    "6. **循环不变量**\n",
    "    1. 即L-1永远指向左侧元素而R+1永远指向右侧元素\n",
    "    2. 最终跳出循环的时候R在L的右侧 \n",
    "\n",
    "![循环不变量](../Source/bisect.png)\n"
   ]
  },
  {
   "cell_type": "code",
   "execution_count": null,
   "metadata": {},
   "outputs": [],
   "source": [
    "class Solution:\n",
    "    def findMedianSortedArrays(self, nums1, nums2) -> float:\n",
    "        n1, n2 = map(len, (nums1, nums2))\n",
    "        if n1 > n2: return self.findMedianSortedArrays(nums2, nums1)\n",
    "        k = (n1+n2+1)//2  # find k-th element\n",
    "\n",
    "        # m1表示的是从nums1中取元素的个数[0, n1]\n",
    "        left, right = 0, n1-1\n",
    "        while left <= right:\n",
    "            m1 = left + (right - left) // 2\n",
    "            m2 = k - m1\n",
    "\n",
    "            if nums1[m1] < nums2[m2-1]:\n",
    "                left = m1 + 1\n",
    "            else:\n",
    "                right = m1 - 1 \n",
    "\n",
    "        m1 = left\n",
    "        m2 = k - m1\n",
    "\n",
    "        c1 = max(float('-inf') if m1<=0 else nums1[m1-1], float('-inf') if m2<=0 else nums2[m2-1])\n",
    "        if (n1+n2) & 1: return c1\n",
    "\n",
    "        c2 = min(float('inf') if m1>=n1 else nums1[m1], float('inf') if m2>=n2 else nums2[m2])\n",
    "        return (c1+c2)/2"
   ]
  }
 ],
 "metadata": {
  "language_info": {
   "name": "python"
  },
  "orig_nbformat": 4
 },
 "nbformat": 4,
 "nbformat_minor": 2
}
