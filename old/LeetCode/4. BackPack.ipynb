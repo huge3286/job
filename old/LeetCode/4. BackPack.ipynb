{
 "cells": [
  {
   "cell_type": "markdown",
   "metadata": {},
   "source": [
    "**背包问题**\n",
    "1. 0-1背包  \n",
    "[494. 目标和](https://leetcode.cn/problems/target-sum/description/)  \n",
    "[416. 分割等和子集](https://leetcode.cn/problems/partition-equal-subset-sum/description/)  \n",
    "2. 完全背包  \n",
    "[322. 零钱兑换](https://leetcode.cn/problems/coin-change/)  \n",
    "[518. 零钱兑换 II](https://leetcode.cn/problems/coin-change-ii/description/)  "
   ]
  },
  {
   "cell_type": "markdown",
   "metadata": {},
   "source": [
    "**目标和**  \n",
    "要么加要么减 两种方案数相加即可  \n",
    "$dfs(i, c) = dfs(i-1, c-nums[i]) + dfs(i-1, c+nums[i])$"
   ]
  },
  {
   "cell_type": "code",
   "execution_count": null,
   "metadata": {},
   "outputs": [],
   "source": [
    "class Solution:\n",
    "    def findTargetSumWays(self, nums: List[int], target: int) -> int:\n",
    "        n = len(nums)\n",
    "\n",
    "        # 选或不选 return的是表达式的数目\n",
    "        @cache\n",
    "        def dfs(i, c):\n",
    "            if i<0:\n",
    "                if c==0: return 1\n",
    "                else: return 0\n",
    "            return dfs(i-1, c-nums[i]) + dfs(i-1, c+nums[i])\n",
    "\n",
    "        return dfs(n-1, target)"
   ]
  },
  {
   "cell_type": "markdown",
   "metadata": {},
   "source": [
    "**分割等和子集**  \n",
    "这里dfs直接返回布尔值  \n",
    "其实就是取数使得等于数组总和的一半  \n",
    "$dfs(i, c) = dfs(i-1, c)\\quad or\\quad dfs(i-1, c-nums[i])$"
   ]
  },
  {
   "cell_type": "code",
   "execution_count": null,
   "metadata": {},
   "outputs": [],
   "source": [
    "class Solution:\n",
    "    def canPartition(self, nums: List[int]) -> bool:\n",
    "        n = len(nums)\n",
    "        target = sum(nums)  # O(n)\n",
    "        if target & 1: return False\n",
    "        target //= 2\n",
    "\n",
    "        ''' 递归 '''\n",
    "        @cache\n",
    "        def dfs(i, c):\n",
    "            if i < 0:\n",
    "                if c == 0: return True\n",
    "                else: return False\n",
    "            return dfs(i-1, c) or dfs(i-1, c-nums[i])\n",
    "        \n",
    "        # return dfs(n-1, target)\n",
    "\n",
    "        ''' 递推 '''\n",
    "        dp = [[False]*(target+1) for _ in range(n+1)]\n",
    "        dp[0][0] = True\n",
    "        for i in range(1, n):\n",
    "            for c in range(target+1):\n",
    "                if c < nums[i]:  # 剪枝\n",
    "                    dp[i][c] = dp[i-1][c]\n",
    "                else:\n",
    "                    dp[i][c] = dp[i-1][c] or dp[i-1][c-nums[i]]\n",
    "        return dp[n-1][target]"
   ]
  }
 ],
 "metadata": {
  "language_info": {
   "name": "python"
  },
  "orig_nbformat": 4
 },
 "nbformat": 4,
 "nbformat_minor": 2
}
