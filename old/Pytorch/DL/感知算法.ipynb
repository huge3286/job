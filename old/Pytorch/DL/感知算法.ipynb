{
 "cells": [
  {
   "cell_type": "markdown",
   "metadata": {},
   "source": [
    "## 手撕IoU\n",
    "即两个框的交并比"
   ]
  },
  {
   "cell_type": "code",
   "execution_count": null,
   "metadata": {},
   "outputs": [],
   "source": [
    "import numpy as np\n",
    "\n",
    "# 给的 a[x1, y1, x2, y2] 分别是左上和右下的坐标\n",
    "def ComputeIOU(a, b):\n",
    "    # 求出相交四边形的左上角和右下角\n",
    "    x1 = np.max(a[0], b[0])\n",
    "    y1 = np.max(a[1], b[1])\n",
    "    x2 = np.min(a[2], b[2])\n",
    "    y2 = np.min(a[3], b[3])\n",
    "\n",
    "    inter = np.max([x2-x1, 0]) * np.max([y2-y1, 0])\n",
    "    union = (a[2]-a[0])*(a[3]-a[1]) + (b[2]-b[0])*(b[3]-b[1]) - inter\n",
    "\n",
    "    return inter / union"
   ]
  },
  {
   "cell_type": "markdown",
   "metadata": {},
   "source": [
    "## 手撕NMS 非极大值抑制\n",
    "检测模型的输出结果会有很多重叠 需要从中选择最优的检测框  \n",
    "\n",
    "### 算法流程\n",
    "1. 根据置信度排序\n",
    "2. 选取置信度最高的边界框添加到 最终的输出列表里面 从候选框删除\n",
    "3. 计算候选框和其他框的IoU 删除IoU大于阈值的边界框"
   ]
  },
  {
   "cell_type": "code",
   "execution_count": null,
   "metadata": {},
   "outputs": [],
   "source": [
    "import numpy as np\n",
    "\n",
    "def nms(dets, score, threshold):\n",
    "    if len(dets) == 0:\n",
    "        return []\n",
    "    \n",
    "    boxes = np.array(dets)\n",
    "    score = np.array(score)\n",
    "\n",
    "    picked_boxes = []\n",
    "    picked_score = []\n",
    "    \n",
    "    # 预先取出boxes的坐标 计算出框的面积\n",
    "    x1 = boxes[:, 0]\n",
    "    y1 = boxes[:, 1]\n",
    "    x2 = boxes[:, 2]\n",
    "    y2 = boxes[:, 3]\n",
    "    areas = (x2-x1+1)*(y2-y1+1)\n",
    "\n",
    "    # 获得order 从小到大排列的元素序号\n",
    "    order = np.argsort(score)\n",
    "\n",
    "    while order.size > 0:\n",
    "        index = order[-1]\n",
    "\n",
    "        picked_boxes.append(boxes[index])\n",
    "        picked_score.append(score[index])\n",
    "\n",
    "        # 计算最大元素和其他框的IoU\n",
    "        x1 = np.max(x1[index], x1[order[:-1]])\n",
    "        y1 = np.max(y1[index], y1[order[:-1]])\n",
    "        x2 = np.min(x2[index], x2[order[:-1]])\n",
    "        y2 = np.min(y2[index], y2[order[:-1]])\n",
    "\n",
    "        inter = np.max(0., x2-x1+1) * np.max(0., y2-y1+1)\n",
    "        iou = inter / (areas[index] + areas[order[:-1]] - inter)\n",
    "        order = order[np.where(iou < threshold)]  # 仅仅保留iou小于阈值的框\n",
    "\n",
    "    return picked_boxes, picked_score"
   ]
  },
  {
   "cell_type": "markdown",
   "metadata": {},
   "source": [
    "## 手撕匈牙利匹配 （相关性矩阵+状态压缩DP）"
   ]
  },
  {
   "cell_type": "code",
   "execution_count": null,
   "metadata": {},
   "outputs": [],
   "source": []
  },
  {
   "cell_type": "code",
   "execution_count": null,
   "metadata": {},
   "outputs": [],
   "source": []
  }
 ],
 "metadata": {
  "kernelspec": {
   "display_name": "huge",
   "language": "python",
   "name": "python3"
  },
  "language_info": {
   "codemirror_mode": {
    "name": "ipython",
    "version": 3
   },
   "file_extension": ".py",
   "mimetype": "text/x-python",
   "name": "python",
   "nbconvert_exporter": "python",
   "pygments_lexer": "ipython3",
   "version": "3.9.16"
  },
  "orig_nbformat": 4
 },
 "nbformat": 4,
 "nbformat_minor": 2
}
