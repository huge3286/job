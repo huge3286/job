{
 "cells": [
  {
   "cell_type": "markdown",
   "metadata": {},
   "source": [
    "## 排序  \n",
    "最基础也是最常考的 我们这里只讲\n",
    "1. 快速排序\n",
    "2. 堆排序\n",
    "3. 归并排序\n",
    "\n",
    "### 快速排序\n",
    "1. 从数组中随机选择一个数作为 `pivot`\n",
    "2. 初始化双指针 两端分别和 `pivot` 比较\n",
    "3. 交换元素 把大元素放到 `pivot` 右侧 小元素放到左侧\n",
    "\n",
    "Python用法 基于分组循环的简介实现\n",
    "```python\n",
    "import random\n",
    "def quickSort(nums, left, right):\n",
    "    if left >= right: return\n",
    "\n",
    "    # 随机选取pivot放到区间开头\n",
    "    pivot_idx = random.randint(left, right)\n",
    "    nums[left], nums[pivot_idx] = nums[pivot_idx], nums[left]\n",
    "    pivot = left\n",
    "\n",
    "    # 分组循环 分别找到两侧不符合的元素 随后交换\n",
    "    i, j = left, right\n",
    "    while i < j:\n",
    "        # 右侧元素严格大于pivot 左侧小于等于\n",
    "        while i < j and nums[j] > nums[pivot]: j -= 1\n",
    "        while i < j and nums[i] <= nums[pivot]: i += 1\n",
    "        nums[i], nums[j] = nums[j], nums[i]\n",
    "    # 先右后左 上轮结束的时候 i指向小于pivot的元素\n",
    "    # j一直缩小直到小于等于pivot的元素 此时就算与i交换也无所谓\n",
    "    # 如果i == j的话 指向的也是小于等于pivot的元素 所以再与pivot交换\n",
    "    nums[pivot], nums[j] = nums[j], nums[pivot]\n",
    "    quickSort(nums, left, j-1)\n",
    "    quickSort(nums, j+1, right)\n",
    "```  \n",
    "1. 没必要可以去思考细节 双指针最终停止时左右两侧元素已经都已经满足条件 知道这点即可\n",
    "2. 随后交换pivot和循环中止点\n",
    "\n",
    "### 三路快排\n",
    "同时维护三个区间 1.小于 2.等于 3.大于  \n",
    "目的：把等于pivot的数字挤到数组中间\n",
    "\n",
    "**简单来说 枚举元素往左右两边放 相等的元素就直接跳过**\n",
    "\n",
    "```python\n",
    "def quickSort(nums, left, right):\n",
    "        if left >= right: return\n",
    "\n",
    "        random_index = random.randint(left, right)\n",
    "        mid = nums[random_index]\n",
    "        nums[left], nums[random_index] = nums[random_index], nums[left]\n",
    "        i = left + 1\n",
    "        j = left       # 左区间的右端点\n",
    "        k = right + 1  # 右区间的左端点 说是为了初始化为空区间\n",
    "        while i < k:\n",
    "            if nums[i] < mid:\n",
    "                # 如果小于 pivot 就放到左区间的后一个位置\n",
    "                nums[i], nums[j + 1] = nums[j + 1], nums[i]\n",
    "                i += 1\n",
    "                j += 1\n",
    "            elif nums[i] > mid:\n",
    "                # 如果大于 pivot 就放到右区间的前一个位置\n",
    "                nums[i], nums[k - 1] = nums[k - 1], nums[i]\n",
    "                k -= 1\n",
    "            else:\n",
    "                i += 1\n",
    "        nums[left], nums[j] = nums[j], nums[left]\n",
    "        quickSort(nums, left, j - 1)\n",
    "        quickSort(nums, k, right)\n",
    "```"
   ]
  },
  {
   "cell_type": "code",
   "execution_count": 13,
   "metadata": {},
   "outputs": [
    {
     "data": {
      "text/plain": [
       "[1, 2, 2, 3, 6, 6, 7, 8]"
      ]
     },
     "execution_count": 13,
     "metadata": {},
     "output_type": "execute_result"
    }
   ],
   "source": [
    "import random\n",
    "def quickSort(nums, left, right):\n",
    "    if left >= right: return\n",
    "\n",
    "    pivot_idx = random.randint(left, right)\n",
    "    nums[left], nums[pivot_idx] = nums[pivot_idx], nums[left]\n",
    "    pivot = left\n",
    "\n",
    "    i, j = left, right\n",
    "    while i < j:\n",
    "        while i < j and nums[j] > nums[pivot]: j -= 1\n",
    "        while i < j and nums[i] <= nums[pivot]: i += 1\n",
    "        nums[i], nums[j] = nums[j], nums[i]\n",
    "    nums[pivot], nums[j] = nums[j], nums[pivot]\n",
    "    quickSort(nums, left, j-1)\n",
    "    quickSort(nums, j+1, right)\n",
    "\n",
    "nums = [3, 6, 2, 8, 6, 1, 2, 7]\n",
    "quickSort(nums, 0, len(nums)-1)\n",
    "nums"
   ]
  },
  {
   "cell_type": "code",
   "execution_count": 31,
   "metadata": {},
   "outputs": [
    {
     "data": {
      "text/plain": [
       "[1, 2, 2, 3, 6, 6, 7, 8]"
      ]
     },
     "execution_count": 31,
     "metadata": {},
     "output_type": "execute_result"
    }
   ],
   "source": [
    "# 三路快排\n",
    "def quickSort(nums, left, right):\n",
    "        if left >= right: return\n",
    "\n",
    "        random_index = random.randint(left, right)\n",
    "        mid = nums[random_index]\n",
    "        nums[left], nums[random_index] = nums[random_index], nums[left]\n",
    "        i = left + 1\n",
    "        \n",
    "        # 枚举元素往左右两边放 相等的元素就直接跳过\n",
    "        j = left\n",
    "        k = right + 1\n",
    "        while i < k:\n",
    "            if nums[i] < mid:\n",
    "                nums[i], nums[j + 1] = nums[j + 1], nums[i]\n",
    "                i += 1\n",
    "                j += 1\n",
    "            elif nums[i] > mid:\n",
    "                nums[i], nums[k - 1] = nums[k - 1], nums[i]\n",
    "                k -= 1\n",
    "            else:\n",
    "                i += 1\n",
    "        nums[left], nums[j] = nums[j], nums[left]\n",
    "        quickSort(nums, left, j - 1)\n",
    "        quickSort(nums, k, right)\n",
    "\n",
    "nums = [3, 6, 2, 8, 6, 1, 2, 7]\n",
    "quickSort(nums, 0, len(nums)-1)\n",
    "nums"
   ]
  }
 ],
 "metadata": {
  "kernelspec": {
   "display_name": "huge",
   "language": "python",
   "name": "python3"
  },
  "language_info": {
   "codemirror_mode": {
    "name": "ipython",
    "version": 3
   },
   "file_extension": ".py",
   "mimetype": "text/x-python",
   "name": "python",
   "nbconvert_exporter": "python",
   "pygments_lexer": "ipython3",
   "version": "3.9.16"
  },
  "orig_nbformat": 4
 },
 "nbformat": 4,
 "nbformat_minor": 2
}
