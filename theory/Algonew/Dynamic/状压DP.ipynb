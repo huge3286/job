{
 "cells": [
  {
   "cell_type": "markdown",
   "metadata": {},
   "source": [
    "## 状态压缩DP  \n",
    "用位运算进行状态压缩来做动态规划"
   ]
  },
  {
   "cell_type": "markdown",
   "metadata": {},
   "source": [
    "### 最大兼容性评分和  \n",
    "1. 首先利用异或运算计算出相关性\n",
    "2. 状态压缩DP规划出最佳分配\n",
    "\n",
    "#### 状态是如何递推的？  \n",
    "简单来说就是从当前状态的某个`1`推回`0` 据此更新状态  \n",
    "\n",
    "一般的思路是 `DP[i][j]` 为`i`学生分配`j`导师  \n",
    "使用状态压缩DP好处在于 我们可以很方便地在状态间推移 我们可以用一个异或来递推 例如 `11111` -> `11101`  \n",
    "而`DP[i][j]` 就比较麻烦了\n",
    "\n",
    "```python\n",
    "if (state >> i) & 1:\n",
    "    dp[state] = max(dp[state], dp[state ^ (1 << i)] + scores[i][one_cnt - 1])\n",
    "```\n",
    "1. `if (state >> i) & 1:` 表示我们考虑当前状态中为`1`的所有位\n",
    "2. `dp[state ^ (1 << i)]` 这样就能递推回去某位为`0`而其他位依然保持`1`不变\n",
    "3. `scores[i][cnt - 1]` 代码中还隐含了**按顺序分配学生**的逻辑  \n",
    "    例如cnt计算为5 我们现在就考虑第5(下标为4)个学生分配导师  \n",
    "    实际操作就是 枚举当前状态所包含的 cnt为4的情况 再给每一种情况新增 第5(下标为4)个学生  "
   ]
  },
  {
   "cell_type": "code",
   "execution_count": null,
   "metadata": {},
   "outputs": [],
   "source": [
    "# 1947. 最大兼容性评分和\n",
    "class Solution:\n",
    "    def maxCompatibilitySum(self, students, mentors) -> int:\n",
    "        m = len(students)\n",
    "        n = len(students[0])\n",
    "        \n",
    "        students = [int(''.join(str(ans) for ans in student), 2) for student in students]\n",
    "        mentors = [int(''.join(str(ans) for ans in mentor), 2) for mentor in mentors]\n",
    "        scores = [[n - (mentor^student).bit_count() for mentor in mentors] for student in students]\n",
    "\n",
    "        states = 1 << m\n",
    "        dp = [0 for _ in range(states)]\n",
    "\n",
    "        for state in range(states):  # 从全0到全1\n",
    "            cnt = state.bit_count()\n",
    "            for i in range(m):\n",
    "                if (state >> i) & 1:\n",
    "                    dp[state] = max(dp[state], dp[state ^ (1 << i)] + scores[i][cnt - 1])\n",
    "        return dp[states - 1]"
   ]
  }
 ],
 "metadata": {
  "kernelspec": {
   "display_name": "base",
   "language": "python",
   "name": "python3"
  },
  "language_info": {
   "codemirror_mode": {
    "name": "ipython",
    "version": 3
   },
   "file_extension": ".py",
   "mimetype": "text/x-python",
   "name": "python",
   "nbconvert_exporter": "python",
   "pygments_lexer": "ipython3",
   "version": "3.10.9"
  },
  "orig_nbformat": 4
 },
 "nbformat": 4,
 "nbformat_minor": 2
}
