{
 "cells": [
  {
   "cell_type": "markdown",
   "metadata": {},
   "source": [
    "**并查集**  \n",
    "顾名思义，实现集合的合并与查找。  \n",
    "主要研究的是图的问题，在图中，我们把连接在一起的节点视为一个集合。  \n",
    "1. merge\n",
    "2. find\n",
    "\n",
    "优化：  \n",
    "1. 路径压缩：  \n",
    "在执行查找操作时，将路径上的每个节点的父节点都直接连接到根节点，以减少以后的查找时间，同时保持整个树更加平衡。  \n",
    "2. 按秩合并：\n",
    "在执行合并操作时，将高度较低的树连接到高度较高的树上，以避免生成过深的树，从而降低查找的复杂度。"
   ]
  },
  {
   "cell_type": "markdown",
   "metadata": {},
   "source": [
    "**实现步骤**\n",
    "1. 初始化： 一个fa数组 保存每个节点的父节点 最开始时每个节点的父节点都是自己\n",
    "2. 查找： 递归查询节点的根节点(递归查询到父节点是自身的节点，也就是根节点)\n",
    "3. 合并： 将其中一个根节点连接到另外一个集合的根节点\n"
   ]
  },
  {
   "cell_type": "code",
   "execution_count": null,
   "metadata": {},
   "outputs": [],
   "source": [
    "''' 灵神并查集模板 '''\n",
    "n = int(input())\n",
    "\n",
    "# 初始化父节点数组\n",
    "fa = list(range(n))\n",
    "\n",
    "# 查找函数                      # 路径压缩\n",
    "def find(x):\n",
    "    return x if fa[x] == x else find(fa[x])\n",
    "\n",
    "# 合并函数\n",
    "def merge(x: int, y: int):\n",
    "    fx, fy = map(find, (x, y))  # 查询根节点\n",
    "    if fx != fy:                # 判断是否属于同一个集合\n",
    "        fa[fx] = fy             # 合并集合"
   ]
  },
  {
   "cell_type": "markdown",
   "metadata": {},
   "source": [
    "**Kruskal**  \n",
    "最小生成树 克鲁斯卡尔算法  \n",
    "把有权连通图中的节点全都连接起来，**使得连接的权重和最小**  \n",
    "例：N个城市连接光缆 求光缆的最短连接方案\n",
    "\n",
    "1. 边按权排序\n",
    "2. 依次加入并查集  \n",
    "    如果已经在集合中说明会成环  \n",
    "    如果不在集合中 则合并集合  \n"
   ]
  },
  {
   "cell_type": "code",
   "execution_count": null,
   "metadata": {},
   "outputs": [],
   "source": [
    "\"\"\" 读取数据 建图 \"\"\"\n",
    "n, m = map(int, input().split())\n",
    "\n",
    "edges = []\n",
    "for i in range(m):\n",
    "    x, y, c = map(int, input().split())\n",
    "    edges.append([x - 1, y - 1, c])\n",
    "\n",
    "\n",
    "\"\"\" 并查集模板 \"\"\"\n",
    "fa = list(range(n))\n",
    "\n",
    "\n",
    "def find(x):\n",
    "    return x if fa[x] == x else find(fa[x])\n",
    "\n",
    "\"\"\" 哈希表实现 \"\"\"\n",
    "fa = dict()\n",
    "\n",
    "def find(x):\n",
    "    fx = fa.get(x, x)\n",
    "    return x if fx == x else find(fx)\n",
    "\n",
    "\n",
    "\"\"\" 按照积分从大到小枚举 \"\"\"\n",
    "ans = 0\n",
    "cnt = 1\n",
    "for x, y, c in sorted(edges, key=lambda x: x[2], reverse=True):\n",
    "    fx, fy = map(find, (x, y))\n",
    "    if fx != fy:\n",
    "        ans += c\n",
    "        cnt += 1\n",
    "        fa[fx] = fy\n",
    "\n",
    "    if cnt == n:\n",
    "        print(ans)\n",
    "        exit()\n",
    "\n",
    "print(\"No solution.\")"
   ]
  }
 ],
 "metadata": {
  "kernelspec": {
   "display_name": "huge",
   "language": "python",
   "name": "python3"
  },
  "language_info": {
   "codemirror_mode": {
    "name": "ipython",
    "version": 3
   },
   "file_extension": ".py",
   "mimetype": "text/x-python",
   "name": "python",
   "nbconvert_exporter": "python",
   "pygments_lexer": "ipython3",
   "version": "3.9.16"
  },
  "orig_nbformat": 4
 },
 "nbformat": 4,
 "nbformat_minor": 2
}
