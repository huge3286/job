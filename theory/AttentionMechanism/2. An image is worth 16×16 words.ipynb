{
 "cells": [
  {
   "cell_type": "markdown",
   "metadata": {},
   "source": [
    "**An Image is worth 16×16 Words**\n",
    "```python \n",
    "class PatchEmbed(nn.Module)         # 对输入图像进行分块和展平操作\n",
    "class Attention(nn.Module)          # 实现多头自注意力机制\n",
    "class Mlp(nn.Module)                # 实现Transformer编码器中的MLP模块\n",
    "class Block(nn.Module)              # 实现一整个Transformer编码器\n",
    "class VisionTransformer(nn.Module)  # 实现ViT整体的最终架构\n",
    "```"
   ]
  },
  {
   "cell_type": "code",
   "execution_count": 1,
   "metadata": {},
   "outputs": [],
   "source": [
    "import torch\n",
    "import torch.nn as nn\n",
    "import torch.nn.functional as F\n",
    "import numpy as np\n",
    "\n",
    "B = 1    # batch size\n",
    "N = 196  # patches\n",
    "C = 768  # channel / embed_dim\n",
    "\n",
    "image = torch.randn([1, 3, 224, 224])"
   ]
  },
  {
   "cell_type": "markdown",
   "metadata": {},
   "source": [
    "PatchEmbed实际上利用kernel_size和stride都等于patch_size的二维卷积将图像分块  \n",
    "```python\n",
    "                [1, 3, 224, 224]\n",
    "Conv2d      ->  [1, 768, 14, 14]\n",
    "flatten     ->  [1, 768, 196]\n",
    "transpose   ->  [1, 196, 768]\n",
    "```"
   ]
  },
  {
   "cell_type": "code",
   "execution_count": 6,
   "metadata": {},
   "outputs": [],
   "source": [
    "class PatchEmbed(nn.Module):\n",
    "    def __init__(self, img_size=224, patch_size=16, in_c=3, embed_dim=768):\n",
    "        super().__init__()\n",
    "        self.proj = nn.Conv2d(in_channels=in_c, out_channels=embed_dim, kernel_size=patch_size, stride=patch_size)\n",
    "    def forward(self, x):\n",
    "        x = self.proj(x).flatten(2).transpose(1, 2)\n",
    "        return x"
   ]
  },
  {
   "cell_type": "code",
   "execution_count": 7,
   "metadata": {},
   "outputs": [
    {
     "name": "stdout",
     "output_type": "stream",
     "text": [
      "torch.Size([1, 196, 768])\n"
     ]
    }
   ],
   "source": [
    "patchembed = PatchEmbed()\n",
    "image = patchembed(image)\n",
    "print(image.shape)"
   ]
  },
  {
   "cell_type": "markdown",
   "metadata": {},
   "source": [
    "拆分成多头计算注意力然后拼起来, patch_num应该是196+1, 有一个cls_token  \n",
    "一个线性层计算出qkv, 然后就是常规的注意力操作\n",
    "```python\n",
    "                [1, 196, 768]\n",
    "linear      ->  [1, 196, 3, 8, 96]\n",
    "permute     ->  [3, 1, 8, 196, 96]\n",
    "q @ k       ->  [1, 8, 196, 196]\n",
    "attn @ v    ->  [1, 8, 196, 96]\n",
    "transpose   ->  [1, 196, 8, 96]\n",
    "reshape     ->  [1, 196, 768]\n",
    "```"
   ]
  },
  {
   "cell_type": "code",
   "execution_count": 24,
   "metadata": {},
   "outputs": [],
   "source": [
    "class Attention(nn.Module):\n",
    "    def __init__(self, dim, num_heads=8):\n",
    "        super().__init__()\n",
    "        self.qkv = nn.Linear(in_features=dim, out_features=dim * 3)\n",
    "        self.proj = nn.Linear(in_features=dim, out_features=dim)\n",
    "        self.num_heads = num_heads\n",
    "    def forward(self, x):\n",
    "        B, N, C = x.shape\n",
    "        qkv = self.qkv(x).reshape(B, N, 3, self.num_heads, C // self.num_heads).permute(2, 0, 3, 1, 4)\n",
    "        # [batchsz, heads, nums, dim//heads]\n",
    "        q, k, v = qkv[0], qkv[1], qkv[2]\n",
    "        attn = (q @ k.transpose(-2, -1)) * np.power(C, -0.5)\n",
    "        attn = attn.softmax(dim=-1)\n",
    "        x = (attn @ v).transpose(1, 2).reshape(B, N, C)\n",
    "        x = self.proj(x)\n",
    "        return x"
   ]
  },
  {
   "cell_type": "code",
   "execution_count": 25,
   "metadata": {},
   "outputs": [
    {
     "name": "stdout",
     "output_type": "stream",
     "text": [
      "torch.Size([1, 196, 768])\n"
     ]
    }
   ],
   "source": [
    "attention = Attention(dim=C)\n",
    "image = attention(image)\n",
    "print(image.shape)"
   ]
  },
  {
   "cell_type": "code",
   "execution_count": null,
   "metadata": {},
   "outputs": [],
   "source": [
    "class MLP(nn.Module):\n",
    "    def __init__(self):\n",
    "        super().__init__()\n",
    "    def forward(self):\n",
    "        return"
   ]
  },
  {
   "cell_type": "code",
   "execution_count": null,
   "metadata": {},
   "outputs": [],
   "source": [
    "class Block(nn.Module):\n",
    "    def __init__(self,...):\n",
    "        self.attn = Attention(...)\n",
    "        self.mlp = Mlp(...)\n",
    "    def forward(self, x):\n",
    "        x = x + self.drop_path(self.attn(self.norm1(x)))\n",
    "        x = x + self.drop_path(self.mlp(self.norm2(x)))\n",
    "        return x"
   ]
  },
  {
   "cell_type": "code",
   "execution_count": null,
   "metadata": {},
   "outputs": [],
   "source": [
    "class VisionTransformer(nn.Module):\n",
    "    def __init__(self, ...):\n",
    "        self.patch_embed = PatchEmbed(...)\n",
    "        self.cls_token = nn.Parameter(torch.zeros(1, 1, embed_dim))\n",
    "        self.pos_embed = nn.Parameter(torch.zeros(1, num_patches + self.num_tokens, embed_dim))\n",
    "        self.blocks = nn.Sequential(*[Block(...) for i in range(depth)])\n",
    "    def forward(self, x):\n",
    "        x = self.patch_embed(x)\n",
    "        cls_token = self.cls_token.expand(x.shape[0], -1, -1)\n",
    "        x = torch.cat((cls_token, x), dim=1)  # 在n这个维度上cancat上类别编码\n",
    "        x = x + self.pos_embed  # 每个元素加上位置编码\n",
    "        x = self.blocks(x)  # 经过堆叠的transformer编码器\n",
    "        return x[:, 0]  # 只返回类别"
   ]
  }
 ],
 "metadata": {
  "kernelspec": {
   "display_name": "Python 3.8.17 ('new')",
   "language": "python",
   "name": "python3"
  },
  "language_info": {
   "codemirror_mode": {
    "name": "ipython",
    "version": 3
   },
   "file_extension": ".py",
   "mimetype": "text/x-python",
   "name": "python",
   "nbconvert_exporter": "python",
   "pygments_lexer": "ipython3",
   "version": "3.8.17"
  },
  "orig_nbformat": 4,
  "vscode": {
   "interpreter": {
    "hash": "45305027dd5e5f2c6dc87ef688e0ef3331115f246ec5e2f248ae43438a3fdc70"
   }
  }
 },
 "nbformat": 4,
 "nbformat_minor": 2
}
