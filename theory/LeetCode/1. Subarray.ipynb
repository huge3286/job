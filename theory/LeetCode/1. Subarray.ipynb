{
 "cells": [
  {
   "cell_type": "markdown",
   "metadata": {},
   "source": [
    "[53. 最大子数组和](https://leetcode.cn/problems/maximum-subarray/)\n",
    "\n",
    "看到连续子数组，我们就要想到两个工具：\n",
    "1. 前缀和    \n",
    "(前缀和完了还是需要动态规划)\n",
    "2. 动态规划  \n",
    "(以某个元素结尾的序列)"
   ]
  },
  {
   "cell_type": "code",
   "execution_count": null,
   "metadata": {},
   "outputs": [],
   "source": [
    "# 求前缀和 转换为最简单的股票买卖问题\n",
    "class Solution:\n",
    "    def maxProfit(self, prices: List[int]) -> int:\n",
    "        min_price = inf\n",
    "        profit = -inf\n",
    "        for price in prices:\n",
    "            \n",
    "            profit = max(profit, price - min_price)\n",
    "            min_price = min(min_price, price)\n",
    "        \n",
    "        return profit\n",
    "\n",
    "    def maxSubArray(self, nums: List[int]) -> int:\n",
    "\n",
    "        from itertools import accumulate\n",
    "\n",
    "        s = list(accumulate(nums, initial=0))\n",
    "\n",
    "        return self.maxProfit(s)"
   ]
  },
  {
   "cell_type": "markdown",
   "metadata": {},
   "source": [
    "动态规划的要点：\n",
    "1. 原本找一段序列需要两段遍历 时间O(n^2)\n",
    "2. 我们这里**固定序列结尾**为条件再次遍历 只需要考虑以某个元素结尾的子序列最大值 时间复杂度降低为O(n)\n",
    "3. 因为只有**以某个元素结尾**我们才可以直接在后添加元素 形成递推关系"
   ]
  },
  {
   "cell_type": "code",
   "execution_count": null,
   "metadata": {},
   "outputs": [],
   "source": [
    "class Solution:\n",
    "    def maxSubArray(self, nums: List[int]) -> int:\n",
    "        n = len(nums)\n",
    "        # dp的定义 以nums[i]结尾的子序列和最大值\n",
    "        dp = [0 for _ in range(n)]\n",
    "\n",
    "        for i in range(n):\n",
    "            # 以nums[i]结尾的序列 要么连接nums[]\n",
    "            dp[i] = nums[i] + max(dp[i-1], 0)\n",
    "\n",
    "        return max(dp)"
   ]
  }
 ],
 "metadata": {
  "kernelspec": {
   "display_name": "base",
   "language": "python",
   "name": "python3"
  },
  "language_info": {
   "codemirror_mode": {
    "name": "ipython",
    "version": 3
   },
   "file_extension": ".py",
   "mimetype": "text/x-python",
   "name": "python",
   "nbconvert_exporter": "python",
   "pygments_lexer": "ipython3",
   "version": "3.9.16"
  },
  "orig_nbformat": 4
 },
 "nbformat": 4,
 "nbformat_minor": 2
}
