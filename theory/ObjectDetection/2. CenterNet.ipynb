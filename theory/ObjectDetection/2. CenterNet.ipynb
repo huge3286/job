{
 "cells": [
  {
   "cell_type": "markdown",
   "metadata": {},
   "source": [
    "**全靠热力图**  \n",
    "输出一个尺寸为16分之一的热力图，热力图的每个像素起到anchor的作用。  \n",
    "一次性输出多个热力图，回归多个数值。"
   ]
  },
  {
   "cell_type": "code",
   "execution_count": null,
   "metadata": {},
   "outputs": [],
   "source": []
  }
 ],
 "metadata": {
  "kernelspec": {
   "display_name": "Python 3.8.17 ('new')",
   "language": "python",
   "name": "python3"
  },
  "language_info": {
   "name": "python",
   "version": "3.8.17"
  },
  "orig_nbformat": 4,
  "vscode": {
   "interpreter": {
    "hash": "45305027dd5e5f2c6dc87ef688e0ef3331115f246ec5e2f248ae43438a3fdc70"
   }
  }
 },
 "nbformat": 4,
 "nbformat_minor": 2
}
